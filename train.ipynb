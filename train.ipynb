{
 "cells": [
  {
   "cell_type": "code",
   "execution_count": 1,
   "metadata": {},
   "outputs": [],
   "source": [
    "import numpy as np\n",
    "import sklearn.datasets\n",
    "from sklearn.model_selection import train_test_split\n",
    "import torch\n",
    "from controller import Controller\n",
    "from torch.utils import data\n",
    "import matplotlib.pyplot as plt\n",
    "import pickle as pkl\n",
    "import math"
   ]
  },
  {
   "cell_type": "code",
   "execution_count": 2,
   "metadata": {},
   "outputs": [],
   "source": [
    "class Dataset(data.Dataset):\n",
    "    def __init__(self, X, y):\n",
    "        self.X = torch.Tensor(X)\n",
    "        self.y = torch.Tensor(y)\n",
    "\n",
    "    def __len__(self):\n",
    "        return len(self.X)\n",
    "\n",
    "    def __getitem__(self, idx):\n",
    "        return self.X[idx], self.y[idx]"
   ]
  },
  {
   "cell_type": "code",
   "execution_count": 3,
   "metadata": {},
   "outputs": [],
   "source": [
    "def load_dataset(p_val=0.1, p_test=0.2, noise=0.2):\n",
    "    np.random.seed(0)\n",
    "    num_samples = 1000\n",
    "    X, y = sklearn.datasets.make_moons(num_samples, noise=noise)\n",
    "\n",
    "    train_end = int(len(X)*(1-p_val-p_test))\n",
    "    val_end = int(len(X)*(1-p_test))\n",
    "\n",
    "    ds_train = Dataset(X[:train_end], y[:train_end])\n",
    "    ds_dev = Dataset(X[train_end:val_end], y[train_end:val_end])\n",
    "    ds_test = Dataset(X[val_end:], y[val_end:])\n",
    "\n",
    "    dl_train = data.DataLoader(ds_train, batch_size=32, shuffle=True)\n",
    "    dl_dev = data.DataLoader(ds_dev, batch_size=32, shuffle=True)\n",
    "    dl_test = data.DataLoader(ds_test, batch_size=32, shuffle=True)\n",
    "\n",
    "    return dl_train, dl_dev, dl_test"
   ]
  },
  {
   "cell_type": "code",
   "execution_count": 4,
   "metadata": {},
   "outputs": [],
   "source": [
    "dl_train, dl_dev, dl_test = load_dataset(noise=0.001)\n",
    "controller = Controller()\n",
    "num_rollouts = 500"
   ]
  },
  {
   "cell_type": "code",
   "execution_count": 5,
   "metadata": {},
   "outputs": [],
   "source": [
    "PATH = 'controller.hd'\n",
    "rewards = []\n",
    "losses = []\n",
    "best_loss = math.inf"
   ]
  },
  {
   "cell_type": "code",
   "execution_count": 6,
   "metadata": {
    "scrolled": true
   },
   "outputs": [
    {
     "name": "stdout",
     "output_type": "stream",
     "text": [
      "Training controller...\n",
      "Model save with loss 1.5790990591049194 at rollout0\n",
      "Model save with loss -0.35192185640335083 at rollout2\n",
      "Model save with loss -0.3417557179927826 at rollout18\n",
      "Model save with loss -0.22452805936336517 at rollout25\n",
      "Model save with loss -0.19789621233940125 at rollout37\n",
      "Model save with loss -0.1951807290315628 at rollout52\n",
      "Model save with loss -0.18081963062286377 at rollout68\n",
      "Model save with loss -0.11508911103010178 at rollout69\n",
      "Model save with loss 0.05865869298577309 at rollout98\n",
      "Model save with loss 0.054905965924263 at rollout99\n",
      "Rollout 100, mean reward: 0.55175, beta: 0.0036237201786049693, loss: 0.8175956176593899\n",
      "Model save with loss 0.05159354209899902 at rollout102\n",
      "Model save with loss 0.042965251952409744 at rollout103\n",
      "Model save with loss 0.03987191244959831 at rollout122\n",
      "Rollout 200, mean reward: 0.40721874999999996, beta: 0.0013263987810938215, loss: 0.11474199898540974\n",
      "Model save with loss 0.03320587798953056 at rollout298\n",
      "Model save with loss 0.0311090350151062 at rollout299\n",
      "Rollout 300, mean reward: 0.440234375, beta: 0.00048550485130572886, loss: 0.13519750114530324\n",
      "Model save with loss 0.029936740174889565 at rollout301\n",
      "Model save with loss 0.028254983946681023 at rollout303\n",
      "Model save with loss 0.02676413394510746 at rollout305\n",
      "Model save with loss 0.02174988202750683 at rollout306\n",
      "Model save with loss 0.020148906856775284 at rollout310\n",
      "Model save with loss 0.01795836351811886 at rollout311\n",
      "Model save with loss 0.012358412146568298 at rollout312\n",
      "Model save with loss 0.01042566541582346 at rollout315\n",
      "Model save with loss 0.008149025030434132 at rollout318\n",
      "Model save with loss 0.007762595545500517 at rollout319\n",
      "Model save with loss 0.002388976514339447 at rollout333\n",
      "Model save with loss 0.0019651015754789114 at rollout334\n",
      "Model save with loss 0.001868113991804421 at rollout335\n",
      "Model save with loss 0.0017850445583462715 at rollout336\n",
      "Model save with loss 0.0014480295358225703 at rollout337\n",
      "Rollout 400, mean reward: 0.41025, beta: 0.00017771047742294718, loss: 0.0775315242272336\n"
     ]
    }
   ],
   "source": [
    "print('Training controller...')\n",
    "\n",
    "for i in range(num_rollouts):\n",
    "    reward = controller.generate_rollout(dl_train, dl_dev)\n",
    "    loss = controller.optimize()\n",
    "    controller.beta *= 0.99\n",
    "\n",
    "    rewards.append(reward)\n",
    "    losses.append(loss)\n",
    "\n",
    "    if i % 100 == 0 and i > 0:\n",
    "        print(f'Rollout {i}, mean reward: {np.mean(rewards[-100:])}, beta: {controller.beta}, loss: {np.mean(losses[-100:])}')\n",
    "    \n",
    "    if best_loss>abs(loss):\n",
    "        torch.save({\n",
    "            'epoch': i,\n",
    "            'model_state_dict': controller.state_dict(),\n",
    "            'optimizer_state_dict': controller.optimizer.state_dict(),\n",
    "            'loss': loss,\n",
    "            }, PATH)\n",
    "        \n",
    "        best_loss = abs(loss)\n",
    "        print(f'Model save with loss {loss} at rollout{i}')\n",
    "        \n",
    "with open('rewards_losses.pkl', 'wb') as handle:\n",
    "    pkl.dump((rewards, losses), handle, protocol=pkl.HIGHEST_PROTOCOL)\n"
   ]
  },
  {
   "cell_type": "code",
   "execution_count": 7,
   "metadata": {},
   "outputs": [
    {
     "data": {
      "text/plain": [
       "[<matplotlib.lines.Line2D at 0x7f25ac1c0fd0>]"
      ]
     },
     "execution_count": 7,
     "metadata": {},
     "output_type": "execute_result"
    },
    {
     "data": {
      "image/png": "[encoded data removed]",
      "text/plain": [
       "<Figure size 432x288 with 1 Axes>"
      ]
     },
     "metadata": {
      "needs_background": "light"
     },
     "output_type": "display_data"
    }
   ],
   "source": [
    "plt.plot(range(len(losses)), losses)"
   ]
  },
  {
   "cell_type": "code",
   "execution_count": 8,
   "metadata": {},
   "outputs": [],
   "source": [
    "rewards = []\n",
    "losses = []"
   ]
  },
  {
   "cell_type": "code",
   "execution_count": 9,
   "metadata": {},
   "outputs": [],
   "source": [
    "dl_train, dl_dev, dl_test = load_dataset(noise=0.3)\n",
    "controller = Controller()\n",
    "\n",
    "checkpoint = torch.load(PATH)\n",
    "controller.load_state_dict(checkpoint['model_state_dict'])\n",
    "controller.optimizer.load_state_dict(checkpoint['optimizer_state_dict'])\n",
    "epoch = checkpoint['epoch']\n",
    "loss = checkpoint['loss']"
   ]
  },
  {
   "cell_type": "code",
   "execution_count": 10,
   "metadata": {
    "scrolled": true
   },
   "outputs": [
    {
     "name": "stdout",
     "output_type": "stream",
     "text": [
      "Pre-Training controller...\n",
      "Model save with loss 0.0013077621115371585 at rollout0\n",
      "Model save with loss 0.0012342415284365416 at rollout1\n",
      "Model save with loss 0.0009883291786536574 at rollout2\n",
      "Model save with loss 0.0009436894324608147 at rollout5\n",
      "Model save with loss 0.0009234615718014538 at rollout6\n",
      "Model save with loss 0.000888029404450208 at rollout8\n",
      "Model save with loss 0.0008577218395657837 at rollout10\n",
      "Model save with loss 0.0008441354148089886 at rollout11\n",
      "Model save with loss 0.0008194604306481779 at rollout13\n",
      "Model save with loss 0.0008082102867774665 at rollout14\n",
      "Model save with loss 0.0007975968183018267 at rollout15\n",
      "Model save with loss 0.0006441958248615265 at rollout17\n",
      "Model save with loss 0.000573297031223774 at rollout56\n",
      "Rollout 100, mean reward: 0.348046875, beta: 0.0036237201786049693, loss: 0.00360308637318667\n",
      "Model save with loss 0.00048750537098385394 at rollout104\n",
      "Model save with loss 0.00048332466394640505 at rollout105\n",
      "Model save with loss 0.00035641479189507663 at rollout107\n",
      "Model save with loss 0.00034599786158651114 at rollout111\n",
      "Model save with loss 0.0002739586925599724 at rollout144\n",
      "Rollout 200, mean reward: 0.34442187500000004, beta: 0.0013263987810938215, loss: 0.012649157199193723\n",
      "Rollout 300, mean reward: 0.35373437499999993, beta: 0.00048550485130572886, loss: 0.03391197371180169\n",
      "Rollout 400, mean reward: 0.3871718750000001, beta: 0.00017771047742294718, loss: 0.06998669391497969\n"
     ]
    }
   ],
   "source": [
    "print('Pre-Training controller...')\n",
    "\n",
    "for i in range(num_rollouts):\n",
    "    reward = controller.generate_rollout(dl_train, dl_dev)\n",
    "    loss = controller.optimize()\n",
    "    controller.beta *= 0.99\n",
    "\n",
    "    rewards.append(reward)\n",
    "    losses.append(loss)\n",
    "\n",
    "    if i % 100 == 0 and i > 0:\n",
    "        print(f'Rollout {i}, mean reward: {np.mean(rewards[-100:])}, beta: {controller.beta}, loss: {np.mean(losses[-100:])}')\n",
    "    \n",
    "    if best_loss>abs(loss):\n",
    "        torch.save({\n",
    "            'epoch': i,\n",
    "            'model_state_dict': controller.state_dict(),\n",
    "            'optimizer_state_dict': controller.optimizer.state_dict(),\n",
    "            'loss': loss,\n",
    "            }, PATH)\n",
    "        \n",
    "        best_loss = abs(loss)\n",
    "        print(f'Model save with loss {loss} at rollout{i}')\n",
    "        \n",
    "with open('rewards_losses.pkl', 'wb') as handle:\n",
    "    pkl.dump((rewards, losses), handle, protocol=pkl.HIGHEST_PROTOCOL)\n"
   ]
  },
  {
   "cell_type": "code",
   "execution_count": 15,
   "metadata": {},
   "outputs": [
    {
     "data": {
      "text/plain": [
       "[<matplotlib.lines.Line2D at 0x7f25a6e78b70>]"
      ]
     },
     "execution_count": 15,
     "metadata": {},
     "output_type": "execute_result"
    },
    {
     "data": {
      "image/png": "[encoded data removed]",
      "text/plain": [
       "<Figure size 432x288 with 1 Axes>"
      ]
     },
     "metadata": {
      "needs_background": "light"
     },
     "output_type": "display_data"
    }
   ],
   "source": [
    "plt.plot(range(len(losses)), losses)"
   ]
  },
  {
   "cell_type": "code",
   "execution_count": null,
   "metadata": {},
   "outputs": [],
   "source": []
  }
 ],
 "metadata": {
  "kernelspec": {
   "display_name": "Python 3",
   "language": "python",
   "name": "python3"
  },
  "language_info": {
   "codemirror_mode": {
    "name": "ipython",
    "version": 3
   },
   "file_extension": ".py",
   "mimetype": "text/x-python",
   "name": "python",
   "nbconvert_exporter": "python",
   "pygments_lexer": "ipython3",
   "version": "3.6.8"
  },
  "pycharm": {
   "stem_cell": {
    "cell_type": "raw",
    "metadata": {
     "collapsed": false
    },
    "source": []
   }
  }
 },
 "nbformat": 4,
 "nbformat_minor": 1
}
